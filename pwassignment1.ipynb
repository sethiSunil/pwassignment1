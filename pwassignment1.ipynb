{
 "cells": [
  {
   "cell_type": "code",
   "execution_count": 1,
   "id": "d87db96a-b454-4b92-ba80-e82a8051cf33",
   "metadata": {},
   "outputs": [
    {
     "name": "stdout",
     "output_type": "stream",
     "text": [
      "<class 'int'>\n",
      "5.0\n",
      "<class 'float'>\n"
     ]
    }
   ],
   "source": [
    "# 1. convert an integer into a floating point number\n",
    "\n",
    "num = 5\n",
    "print(type(num))\n",
    "\n",
    "# covert\n",
    "num = float(num)\n",
    "print(num)\n",
    "print(type(num))"
   ]
  },
  {
   "cell_type": "code",
   "execution_count": 2,
   "id": "86a8fa1c-7f3d-42c4-99a4-195a6a0b49d0",
   "metadata": {},
   "outputs": [
    {
     "name": "stdout",
     "output_type": "stream",
     "text": [
      "<class 'float'>\n",
      "4\n",
      "<class 'int'>\n"
     ]
    }
   ],
   "source": [
    "# 2. convert a  floating into integer\n",
    "\n",
    "number = 4.99\n",
    "print(type(number))\n",
    "\n",
    "# convert\n",
    "number = int(number)\n",
    "print(number)\n",
    "print(type(number))"
   ]
  },
  {
   "cell_type": "code",
   "execution_count": 3,
   "id": "dcb3e60a-bbde-491e-9b83-30d10d8034ff",
   "metadata": {},
   "outputs": [
    {
     "name": "stdout",
     "output_type": "stream",
     "text": [
      "<class 'str'>\n",
      "22\n"
     ]
    }
   ],
   "source": [
    "# 3. convert an integer into string\n",
    "\n",
    "integer = 22\n",
    "\n",
    "# convert\n",
    "string  = str(integer)\n",
    "print(type(string))\n",
    "print(string)"
   ]
  },
  {
   "cell_type": "code",
   "execution_count": 4,
   "id": "286f596c-691a-440f-8a7b-d1732ddedc50",
   "metadata": {},
   "outputs": [
    {
     "name": "stdout",
     "output_type": "stream",
     "text": [
      "<class 'list'>\n",
      "['sunil', 'itachi', 'virat', 'anushka', [20, 21, 32]]\n",
      "<class 'tuple'>\n"
     ]
    }
   ],
   "source": [
    "# 4. convert a list into a tuple\n",
    "\n",
    "mylist =[ \"sunil\" , \"itachi\" , \"virat\" , \"anushka\",[20 , 21 , 32] ]\n",
    "print(type(mylist))\n",
    "\n",
    "# convert\n",
    "mytuple = tuple(mylist)\n",
    "print(mylist)\n",
    "print(type(mytuple))"
   ]
  },
  {
   "cell_type": "code",
   "execution_count": 5,
   "id": "8a41f346-ded1-4a5b-98a3-e72fba6811d3",
   "metadata": {},
   "outputs": [
    {
     "name": "stdout",
     "output_type": "stream",
     "text": [
      "<class 'list'>\n",
      "['sunil', 'itachi', 'virat', 'anushka', [20, 21, 32]]\n",
      "<class 'tuple'>\n"
     ]
    }
   ],
   "source": [
    "# 5. coverting a tuple into a list\n",
    "\n",
    "mytuple =[ \"sunil\" , \"itachi\" , \"virat\" , \"anushka\",[20 , 21 , 32] ]\n",
    "print(type(mytuple))\n",
    "\n",
    "# convert\n",
    "mylist = tuple(mytuple)\n",
    "print(mytuple)\n",
    "print(type(mylist))"
   ]
  },
  {
   "cell_type": "code",
   "execution_count": 6,
   "id": "71923e2e-c54b-4e03-b227-034c2cac378d",
   "metadata": {},
   "outputs": [
    {
     "name": "stdout",
     "output_type": "stream",
     "text": [
      "0b101010\n"
     ]
    }
   ],
   "source": [
    "# 6. convert decimal number to binary in python\n",
    "\n",
    "decimal_num = 42\n",
    "\n",
    "# convert\n",
    "my_binary = bin(decimal_num)\n",
    "print(my_binary)"
   ]
  },
  {
   "cell_type": "code",
   "execution_count": 2,
   "id": "b5845707-61bd-4162-b850-7c7ba2da9144",
   "metadata": {},
   "outputs": [
    {
     "name": "stdout",
     "output_type": "stream",
     "text": [
      "Boolean value of 41 is True\n"
     ]
    }
   ],
   "source": [
    "# 7 . convert a non-zero number to boolean\n",
    "\n",
    "number1 = 41\n",
    "\n",
    "# covert\n",
    "my_boolean  = bool(number1) \n",
    "print(\"Boolean value of\", number1 ,\"is\" ,my_boolean )"
   ]
  },
  {
   "cell_type": "code",
   "execution_count": null,
   "id": "173109f8-1281-45ef-bc18-e644fd9c5b50",
   "metadata": {},
   "outputs": [],
   "source": []
  }
 ],
 "metadata": {
  "kernelspec": {
   "display_name": "Python 3 (ipykernel)",
   "language": "python",
   "name": "python3"
  },
  "language_info": {
   "codemirror_mode": {
    "name": "ipython",
    "version": 3
   },
   "file_extension": ".py",
   "mimetype": "text/x-python",
   "name": "python",
   "nbconvert_exporter": "python",
   "pygments_lexer": "ipython3",
   "version": "3.10.8"
  }
 },
 "nbformat": 4,
 "nbformat_minor": 5
}
